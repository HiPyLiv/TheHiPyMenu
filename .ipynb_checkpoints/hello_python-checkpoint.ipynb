{
 "cells": [
  {
   "cell_type": "markdown",
   "metadata": {},
   "source": [
    "<img src=\"https://img.evbuc.com/https%3A%2F%2Fcdn.evbuc.com%2Fimages%2F72840595%2F64322285113%2F1%2Foriginal.20190914-061706?w=800&auto=compress&rect=0%2C0%2C860%2C430&s=9df0b24f82d668962e4f32d511ebb7ee\"\n",
    "style=\"width: 500px\">\n",
    "\n",
    "## Need Python Support? Come and join the Hive.\n",
    "\n",
    "Register for free at the dates below:\n",
    "\n",
    "  + [Wed 25 Sep 2019](https://www.eventbrite.com/e/hipy-tickets-48282771068)\n",
    "  + [Wed 30 Oct 2019](https://www.eventbrite.com/e/hipy-tickets-48282771068)\n",
    "  + [Wed 27 Nov 2019](https://www.eventbrite.com/e/hipy-tickets-48282771068)\n",
    "  + [Wed 29 Jan 2020](https://www.eventbrite.com/e/hipy-tickets-48282771068)\n",
    "  + [Wed 26 Feb 2020](https://www.eventbrite.com/e/hipy-tickets-48282771068)\n",
    "  + [Wed 25 Mar 2020](https://www.eventbrite.com/e/hipy-tickets-48282771068)\n",
    "  "
   ]
  },
  {
   "cell_type": "markdown",
   "metadata": {},
   "source": [
    "# Hello Python!\n",
    "\n",
    "Wow. You're at HiPy. That's amazing! We're so glad you could make it. So what now?. Well, lets get you coding.\n",
    "\n",
    "You can go direct to [hipy.uk](http://hipy.uk) now and click \"Start\" to start typing code. You won't have to download or install anything.\n",
    "\n",
    "All of our amazing resources are right there too. For free. Forever. You can access them anytime you like. Your welcome.\n",
    "\n",
    "Here are a few challenges to get you going. See if you can use our resources to complete them. Good luck.\n",
    "\n",
    "Remember. If you get stuck. Ask someone for help. Maybe the person next to you or opposite can help. Remember, there is no such thing as a stupid question when it comes to coding. "
   ]
  },
  {
   "cell_type": "markdown",
   "metadata": {},
   "source": [
    "## Challenge 1\n",
    "\n",
    "Ask the user for a number. Use Python to print a response to the user telling them whether the number is odd or even."
   ]
  },
  {
   "cell_type": "code",
   "execution_count": null,
   "metadata": {},
   "outputs": [],
   "source": [
    "# To get started run the line below to ask the user to input a number\n",
    "# Be careful. What type of the date is stored to the variable number?\n",
    "# You may wish to convert it to an integer before checking if it's odd or even.\n",
    "\n",
    "number = input(\"Please input a number\")\n",
    "\n",
    "if int(number) % 2 == 0:\n",
    "    print(\"Even!\")\n",
    "else:\n",
    "    print(\"Odd\")"
   ]
  },
  {
   "cell_type": "code",
   "execution_count": null,
   "metadata": {},
   "outputs": [],
   "source": []
  }
 ],
 "metadata": {
  "kernelspec": {
   "display_name": "Python 3",
   "language": "python",
   "name": "python3"
  }
 },
 "nbformat": 4,
 "nbformat_minor": 2
}
