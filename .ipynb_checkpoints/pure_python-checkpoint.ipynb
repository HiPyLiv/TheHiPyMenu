{
 "cells": [
  {
   "cell_type": "markdown",
   "metadata": {},
   "source": [
    "# Content coming soon!\n",
    "\n",
    "<img src=\"https://img.evbuc.com/https%3A%2F%2Fcdn.evbuc.com%2Fimages%2F72840595%2F64322285113%2F1%2Foriginal.20190914-061706?w=800&auto=compress&rect=0%2C0%2C860%2C430&s=9df0b24f82d668962e4f32d511ebb7ee\"\n",
    "style=\"width: 500px\">\n",
    "\n",
    "## Need Python Support? Come and join the Hive.\n",
    "\n",
    "Register for free at the dates below:\n",
    "\n",
    "  + [Wed 25 Sep 2019](https://www.eventbrite.com/e/hipy-tickets-48282771068)\n",
    "  + [Wed 30 Oct 2019](https://www.eventbrite.com/e/hipy-tickets-48282771068)\n",
    "  + [Wed 27 Nov 2019](https://www.eventbrite.com/e/hipy-tickets-48282771068)\n",
    "  + [Wed 29 Jan 2020](https://www.eventbrite.com/e/hipy-tickets-48282771068)\n",
    "  + [Wed 26 Feb 2020](https://www.eventbrite.com/e/hipy-tickets-48282771068)\n",
    "  + [Wed 25 Mar 2020](https://www.eventbrite.com/e/hipy-tickets-48282771068)\n",
    "  "
   ]
  },
  {
   "cell_type": "code",
   "execution_count": null,
   "metadata": {},
   "outputs": [],
   "source": []
  }
 ],
 "metadata": {
  "kernelspec": {
   "display_name": "Python 3",
   "language": "python",
   "name": "python3"
  },
  "language_info": {
   "codemirror_mode": {
    "name": "ipython",
    "version": 3
   },
   "file_extension": ".py",
   "mimetype": "text/x-python",
   "name": "python",
   "nbconvert_exporter": "python",
   "pygments_lexer": "ipython3",
   "version": "3.5.2"
  }
 },
 "nbformat": 4,
 "nbformat_minor": 2
}
