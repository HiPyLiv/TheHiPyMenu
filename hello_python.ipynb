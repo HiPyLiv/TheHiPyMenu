{
 "cells": [
  {
   "cell_type": "markdown",
   "metadata": {},
   "source": [
    "<img src=\"https://img.evbuc.com/https%3A%2F%2Fcdn.evbuc.com%2Fimages%2F72840595%2F64322285113%2F1%2Foriginal.20190914-061706?w=800&auto=compress&rect=0%2C0%2C860%2C430&s=9df0b24f82d668962e4f32d511ebb7ee\"\n",
    "style=\"width: 500px\">\n",
    "\n",
    "## Need Python Support? Come and join the Hive.\n",
    "\n",
    "Register for free at the dates below:\n",
    "\n",
    "  + [Wed 25 Sep 2019](https://www.eventbrite.com/e/hipy-tickets-48282771068)\n",
    "  + [Wed 30 Oct 2019](https://www.eventbrite.com/e/hipy-tickets-48282771068)\n",
    "  + [Wed 27 Nov 2019](https://www.eventbrite.com/e/hipy-tickets-48282771068)\n",
    "  + [Wed 29 Jan 2020](https://www.eventbrite.com/e/hipy-tickets-48282771068)\n",
    "  + [Wed 26 Feb 2020](https://www.eventbrite.com/e/hipy-tickets-48282771068)\n",
    "  + [Wed 25 Mar 2020](https://www.eventbrite.com/e/hipy-tickets-48282771068)\n",
    "  "
   ]
  },
  {
   "cell_type": "markdown",
   "metadata": {},
   "source": [
    "# Hello Python!\n",
    "\n",
    "Wow. You're at HiPy. That's amazing! We're so glad you could make it. So what now?. Well, lets get you coding.\n",
    "\n",
    "You can go direct to [hipy.uk](http://hipy.uk) now and click \"Start\" to start typing code. You won't have to download or install anything.\n",
    "\n",
    "All of our amazing resources are right there too. For free. Forever. You can access them anytime you like. Your welcome.\n",
    "\n",
    "Here are a few challenges to get you going. See if you can use our resources to complete them.\n",
    "\n",
    "If you would rather work through our [\"Beginners Guide to Python\"](https://nbviewer.jupyter.org/github/HiPyLiv/HiPyProject/blob/master/%5BBASICS%5D%20Getting%20Started%20With%20Python%201%20-%20The%20Basics/Getting%20Started%20In%20Python%201%20-%20The%20Basics.ipynb) then that's fine too!\n",
    "\n",
    "Remember. If you get stuck. Ask someone for help. Maybe the person next to you or opposite can help. Remember, there is no such thing as a stupid question when it comes to coding. "
   ]
  },
  {
   "cell_type": "markdown",
   "metadata": {},
   "source": [
    "## Challenge 1: Odd or Even\n",
    "\n",
    "Ask the user for a number. Use Python to print a response to the user telling them whether the number is odd or even."
   ]
  },
  {
   "cell_type": "code",
   "execution_count": null,
   "metadata": {},
   "outputs": [],
   "source": [
    "# To get started run the line below to ask the user to input a number\n",
    "# Be careful. What type of the date is stored to the variable number?\n",
    "# You may wish to convert it to an integer before checking if it's odd or even.\n",
    "\n",
    "number = input(\"Please input a number\")\n",
    "\n",
    "# hint: use an if statement\n",
    "# hint: Google the terms \"Python modulo operator\". See what happens."
   ]
  },
  {
   "cell_type": "markdown",
   "metadata": {},
   "source": [
    "## Challenge 2: Prime?\n",
    "Write a function to check whether an integer is a prime or not\n",
    "\n",
    "Checkout: https://www.geeksforgeeks.org/python-program-to-check-whether-a-number-is-prime-or-not/\n"
   ]
  },
  {
   "cell_type": "code",
   "execution_count": null,
   "metadata": {},
   "outputs": [],
   "source": [
    "# Here is the skeleton of the function we want to write\n",
    "def prime_check(n):\n",
    "    \"\"\"\n",
    "    Your code goes here\n",
    "    \"\"\"\n",
    "    \n",
    "    return # True if prime, False if not\n",
    "\n",
    "# You can then call this function using\n",
    "prime_check(10)"
   ]
  },
  {
   "cell_type": "markdown",
   "metadata": {},
   "source": [
    "## Challenge 3: Fizz Buzz!\n",
    "\n",
    "Write a program that prints the numbers from 1 to 20, but for multiples of three print \"Fizz\" instead of the number and multiples of five print \"Buzz\". For numbers which are multiples of both three and five print \"FizzBuzz\".\n",
    "\n",
    "Need help? https://hackernoon.com/python-basics-8-fizzbuzz-441e97c6c767"
   ]
  },
  {
   "cell_type": "code",
   "execution_count": null,
   "metadata": {},
   "outputs": [],
   "source": [
    "# Here's your starting loop\n",
    "for num in range(21):\n",
    "    print(num)"
   ]
  },
  {
   "cell_type": "markdown",
   "metadata": {},
   "source": [
    "## Challenge 4: Pride and Prejudice\n",
    "\n",
    "Download Pride and Predjudice txt file at https://www.gutenberg.org/files/1342/1342.txt\n",
    "\n",
    "Save it to your working directory or open it in your trinket.\n",
    "\n",
    "How many times does the word Darcy appear?"
   ]
  },
  {
   "cell_type": "code",
   "execution_count": null,
   "metadata": {},
   "outputs": [],
   "source": [
    "with open(YOUR FILE) as fh:\n",
    "    count = #your code here\n",
    "    return"
   ]
  },
  {
   "cell_type": "markdown",
   "metadata": {},
   "source": [
    "## Challenge 5: More Pride and Prejudice\n",
    "\n",
    "This challenge is hard. But you will learn so much if you perservere!\n",
    "\n",
    "What are the 100 most common words in Pride and Prejudice? Plot them on a bar chart.\n",
    "\n",
    "Full solution at: https://nbviewer.jupyter.org/github/HiPyLiv/TheHiPyMenu/blob/master/Pride%20and%20Prejudice.ipynb\n"
   ]
  },
  {
   "cell_type": "code",
   "execution_count": null,
   "metadata": {},
   "outputs": [],
   "source": []
  }
 ],
 "metadata": {
  "kernelspec": {
   "display_name": "Python 3",
   "language": "python",
   "name": "python3"
  },
  "language_info": {
   "codemirror_mode": {
    "name": "ipython",
    "version": 3
   },
   "file_extension": ".py",
   "mimetype": "text/x-python",
   "name": "python",
   "nbconvert_exporter": "python",
   "pygments_lexer": "ipython3",
   "version": "3.5.2"
  }
 },
 "nbformat": 4,
 "nbformat_minor": 2
}
